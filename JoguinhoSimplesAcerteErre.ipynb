{
  "nbformat": 4,
  "nbformat_minor": 0,
  "metadata": {
    "colab": {
      "provenance": [],
      "authorship_tag": "ABX9TyPsXxYe04JecNGdBLquQl0R",
      "include_colab_link": true
    },
    "kernelspec": {
      "name": "python3",
      "display_name": "Python 3"
    },
    "language_info": {
      "name": "python"
    }
  },
  "cells": [
    {
      "cell_type": "markdown",
      "metadata": {
        "id": "view-in-github",
        "colab_type": "text"
      },
      "source": [
        "<a href=\"https://colab.research.google.com/github/sandyluiza/aprendendo/blob/main/JoguinhoSimplesAcerteErre.ipynb\" target=\"_parent\"><img src=\"https://colab.research.google.com/assets/colab-badge.svg\" alt=\"Open In Colab\"/></a>"
      ]
    },
    {
      "cell_type": "code",
      "execution_count": 17,
      "metadata": {
        "colab": {
          "base_uri": "https://localhost:8080/"
        },
        "id": "_4pc-YSvjOrU",
        "outputId": "9fc8011c-3e82-464a-ce2d-1baca88ee94e"
      },
      "outputs": [
        {
          "output_type": "stream",
          "name": "stdout",
          "text": [
            "Bem vindo ao Jogo da Adivinhação.\n",
            "Você deve escolher um número inteiro entre 0 e 50 e possui 10 tentativas.\n",
            "\n",
            "Faça seu chute: 5\n",
            "Você errou.\n",
            "O número é maior do que o digitado.\n",
            "Você ainda tem 9 tentativas.\n",
            "\n",
            "Faça seu chute: 10\n",
            "Você errou.\n",
            "O número é maior do que o digitado.\n",
            "Você ainda tem 8 tentativas.\n",
            "\n",
            "Faça seu chute: 15\n",
            "Você errou.\n",
            "O número é maior do que o digitado.\n",
            "Você ainda tem 7 tentativas.\n",
            "\n",
            "Faça seu chute: 20\n",
            "Você errou.\n",
            "O número é maior do que o digitado.\n",
            "Você ainda tem 6 tentativas.\n",
            "\n",
            "Faça seu chute: 25\n",
            "Você errou.\n",
            "O número é maior do que o digitado.\n",
            "Você ainda tem 5 tentativas.\n",
            "\n",
            "Faça seu chute: 30\n",
            "Você errou.\n",
            "O número é menor do que o digitado.\n",
            "Você ainda tem 4 tentativas.\n",
            "\n",
            "Faça seu chute: 29\n",
            "Você errou.\n",
            "O número é menor do que o digitado.\n",
            "Você ainda tem 3 tentativas.\n",
            "\n",
            "Faça seu chute: 28\n",
            "Você acertou!\n"
          ]
        }
      ],
      "source": [
        "import numpy as np\n",
        "\n",
        "#Declarações\n",
        "num_tentativas = 0\n",
        "\n",
        "num_sorteado = np.random.randint(0,50)\n",
        "\n",
        "print('Bem vindo ao Jogo da Adivinhação.\\nVocê deve escolher um número inteiro entre 0 e 50 e possui 10 tentativas.\\n')\n",
        "\n",
        "while num_tentativas<10:\n",
        "  chute = int(input('Faça seu chute: '))\n",
        "\n",
        "  if (chute==num_sorteado):\n",
        "    print('Você acertou!')\n",
        "    break\n",
        "  else:\n",
        "    print('Você errou.')\n",
        "\n",
        "    if chute>num_sorteado:\n",
        "      print('O número é menor do que o digitado.')\n",
        "      print('Você ainda tem {} tentativas.\\n'.format(9-num_tentativas))\n",
        "    else:\n",
        "      print('O número é maior do que o digitado.')\n",
        "      print('Você ainda tem {} tentativas.\\n'.format(9-num_tentativas))\n",
        "\n",
        "\n",
        "  num_tentativas+=1\n",
        "\n",
        "if num_tentativas == 10:\n",
        "  print('Suas tentativas acabaram.')\n",
        "  print('O número correto era {}.'.format(num_sorteado))\n",
        "\n",
        "\n",
        "\n"
      ]
    },
    {
      "cell_type": "code",
      "source": [],
      "metadata": {
        "id": "9S6Yg6EykhSU"
      },
      "execution_count": 12,
      "outputs": []
    }
  ]
}